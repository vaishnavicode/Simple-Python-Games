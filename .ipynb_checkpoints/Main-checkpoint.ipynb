{
 "cells": [
  {
   "cell_type": "code",
   "execution_count": 1,
   "id": "20310e86-dbdf-43a1-a7a3-4eccc55deab3",
   "metadata": {},
   "outputs": [
    {
     "name": "stdout",
     "output_type": "stream",
     "text": [
      "The Main Menu\n",
      "1. Open Games\n",
      "2. Login\n",
      "3. Exit\n"
     ]
    },
    {
     "name": "stdin",
     "output_type": "stream",
     "text": [
      "Enter choice :  2\n"
     ]
    },
    {
     "name": "stdout",
     "output_type": "stream",
     "text": [
      "The Login or Register Menu\n",
      "1. Login\n",
      "2. Register\n",
      "3. Exit Back To Main Menu\n"
     ]
    },
    {
     "name": "stdin",
     "output_type": "stream",
     "text": [
      "Enter choice :  1\n"
     ]
    },
    {
     "name": "stdout",
     "output_type": "stream",
     "text": [
      "[]\n"
     ]
    },
    {
     "name": "stdin",
     "output_type": "stream",
     "text": [
      "Enter User Name or Email :  uh\n",
      "Enter password :  uh\n"
     ]
    },
    {
     "ename": "IndexError",
     "evalue": "list index out of range",
     "output_type": "error",
     "traceback": [
      "\u001b[1;31m---------------------------------------------------------------------------\u001b[0m",
      "\u001b[1;31mIndexError\u001b[0m                                Traceback (most recent call last)",
      "Cell \u001b[1;32mIn[1], line 79\u001b[0m\n\u001b[0;32m     77\u001b[0m     open_games(login)\n\u001b[0;32m     78\u001b[0m \u001b[38;5;28;01melif\u001b[39;00m(choice \u001b[38;5;241m==\u001b[39m \u001b[38;5;241m2\u001b[39m):\n\u001b[1;32m---> 79\u001b[0m     \u001b[43mlogin_or_register\u001b[49m\u001b[43m(\u001b[49m\u001b[43m)\u001b[49m\n\u001b[0;32m     80\u001b[0m \u001b[38;5;28;01melif\u001b[39;00m(choice \u001b[38;5;241m==\u001b[39m \u001b[38;5;241m3\u001b[39m):\n\u001b[0;32m     81\u001b[0m     \u001b[38;5;28;01mbreak\u001b[39;00m\n",
      "Cell \u001b[1;32mIn[1], line 17\u001b[0m, in \u001b[0;36mlogin_or_register\u001b[1;34m()\u001b[0m\n\u001b[0;32m     15\u001b[0m usernameOrEmail \u001b[38;5;241m=\u001b[39m \u001b[38;5;28minput\u001b[39m(\u001b[38;5;124m\"\u001b[39m\u001b[38;5;124mEnter User Name or Email : \u001b[39m\u001b[38;5;124m\"\u001b[39m)\n\u001b[0;32m     16\u001b[0m password \u001b[38;5;241m=\u001b[39m \u001b[38;5;28minput\u001b[39m(\u001b[38;5;124m\"\u001b[39m\u001b[38;5;124mEnter password : \u001b[39m\u001b[38;5;124m\"\u001b[39m)\n\u001b[1;32m---> 17\u001b[0m \u001b[38;5;28;01mif\u001b[39;00m(usernameOrEmail\u001b[38;5;241m.\u001b[39mlower() \u001b[38;5;241m==\u001b[39m \u001b[43minfo\u001b[49m\u001b[43m[\u001b[49m\u001b[38;5;241;43m0\u001b[39;49m\u001b[43m]\u001b[49m \u001b[38;5;129;01mor\u001b[39;00m usernameOrEmail\u001b[38;5;241m.\u001b[39mlower() \u001b[38;5;241m==\u001b[39m info[\u001b[38;5;241m1\u001b[39m]):\n\u001b[0;32m     18\u001b[0m     \u001b[38;5;28;01mif\u001b[39;00m(password \u001b[38;5;241m==\u001b[39m info[\u001b[38;5;241m3\u001b[39m]):\n\u001b[0;32m     19\u001b[0m         \u001b[38;5;28mprint\u001b[39m(\u001b[38;5;124m\"\u001b[39m\u001b[38;5;124mLogin Successful!\u001b[39m\u001b[38;5;124m\"\u001b[39m)\n",
      "\u001b[1;31mIndexError\u001b[0m: list index out of range"
     ]
    }
   ],
   "source": [
    "login = False\n",
    "\n",
    "def login_or_register():\n",
    "    while(True):\n",
    "        print(\"The Login or Register Menu\")\n",
    "        print(\"1. Login\")\n",
    "        print(\"2. Register\")\n",
    "        print(\"3. Exit Back To Main Menu\")\n",
    "        choice = int(input(\"Enter choice : \"))\n",
    "\n",
    "        if(choice == 1):\n",
    "            with open(\"user_info.txt\") as f:\n",
    "                info = f.readlines()\n",
    "                print(info)\n",
    "                usernameOrEmail = input(\"Enter User Name or Email : \")\n",
    "                password = input(\"Enter password : \")\n",
    "                if(usernameOrEmail.lower() == info[0] or usernameOrEmail.lower() == info[1]):\n",
    "                    if(password == info[3]):\n",
    "                        print(\"Login Successful!\")\n",
    "                        login = True\n",
    "                    else:\n",
    "                        print(\"Password is incorrect, please attempt again.\")\n",
    "            \n",
    "                else:\n",
    "                    print(\"Login id is invalid.\")\n",
    "                    \n",
    "        elif(choice == 2):\n",
    "            with open(\"user_info.txt\",\"w\") as f:\n",
    "                name = input(\"Enter Your Name : \")\n",
    "                username = input(\"Enter User Name : \")\n",
    "                email = input(\"Enter Email Id : \")\n",
    "                password = input(\"Enter password : \")\n",
    "\n",
    "                info = [name,username,email,password]\n",
    "                f.writelines(info);\n",
    "                \n",
    "        elif(choice == 3):\n",
    "            break\n",
    "        else:\n",
    "            print(\"Invalid choice! Please choose again.\")\n",
    "        \n",
    "    \n",
    " \n",
    "    \n",
    "def open_games(login):\n",
    "    if(not login):\n",
    "        print(\"Login First to Play Games\")\n",
    "    \n",
    "    while(True):\n",
    "        print(\"The Game Menu\")\n",
    "        print(\"1. TicTacToe\")\n",
    "        print(\"2. Snakes and Ladders\")\n",
    "        print(\"3. Text Based Adventure\")\n",
    "        print(\"4. Hangman\")\n",
    "        print(\"5. Exit to Main Menu\")\n",
    "        choice = int(input(\"Enter choice : \"))\n",
    "        if(choice == 1):\n",
    "            pass\n",
    "        elif(choice == 2):\n",
    "            pass\n",
    "        elif(choice == 3):\n",
    "            pass\n",
    "        elif(choice == 4):\n",
    "            pass\n",
    "        elif(choice == 5):\n",
    "            break\n",
    "        else:\n",
    "            print(\"Invalid choice! Please choose again.\")\n",
    "\n",
    "while(True):\n",
    "    print(\"The Main Menu\")\n",
    "    print(\"1. Open Games\")\n",
    "    print(\"2. Login\")\n",
    "    print(\"3. Exit\")\n",
    "    choice = int(input(\"Enter choice : \"))\n",
    "    if(choice == 1):\n",
    "        open_games(login)\n",
    "    elif(choice == 2):\n",
    "        login_or_register()\n",
    "    elif(choice == 3):\n",
    "        break\n",
    "    else:\n",
    "        print(\"Invalid choice! Please choose again.\")\n",
    "\n"
   ]
  },
  {
   "cell_type": "code",
   "execution_count": null,
   "id": "bb1339fe-17d6-4c0c-bf60-a4394702fe6a",
   "metadata": {},
   "outputs": [],
   "source": []
  }
 ],
 "metadata": {
  "kernelspec": {
   "display_name": "Python 3 (ipykernel)",
   "language": "python",
   "name": "python3"
  },
  "language_info": {
   "codemirror_mode": {
    "name": "ipython",
    "version": 3
   },
   "file_extension": ".py",
   "mimetype": "text/x-python",
   "name": "python",
   "nbconvert_exporter": "python",
   "pygments_lexer": "ipython3",
   "version": "3.12.2"
  }
 },
 "nbformat": 4,
 "nbformat_minor": 5
}
